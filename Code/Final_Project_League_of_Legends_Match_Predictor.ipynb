{
  "cells": [
    {
      "cell_type": "markdown",
      "metadata": {
        "id": "56a3f3e8-bd76-4e66-94a9-7a78c01f49bd"
      },
      "source": [
        "<img src=\"https://cf-courses-data.s3.us.cloud-object-storage.appdomain.cloud/assets/logos/SN_web_lightmode.png\" height=300 width=300 />\n"
      ]
    },
    {
      "cell_type": "markdown",
      "metadata": {
        "id": "660de921-475f-41f6-a38e-66e973842477"
      },
      "source": [
        "# Final Project: League of Legends Match Predictor\n"
      ]
    },
    {
      "cell_type": "markdown",
      "metadata": {
        "id": "a32d60bf-0f6c-478d-8293-c2ac48f4fffc"
      },
      "source": [
        "### Introduction\n",
        "\n",
        "League of Legends, a popular multiplayer online battle arena (MOBA) game, generates extensive data from matches, providing an excellent opportunity to apply machine learning techniques to real-world scenarios. Perform the following steps to build a logistic regression model aimed at predicting the outcomes of League of Legends matches.\n",
        "\n",
        "Use the [league_of_legends_data_large.csv](https://cf-courses-data.s3.us.cloud-object-storage.appdomain.cloud/rk7VDaPjMp1h5VXS-cUyMg/league-of-legends-data-large.csv) file to perform the tasks.\n",
        "\n",
        "### Step 1: Data Loading and Preprocessing\n",
        "\n",
        "#### Task 1: Load the League of Legends dataset and preprocess it for training.\n",
        "\n",
        "Loading and preprocessing the dataset involves reading the data, splitting it into training and testing sets, and standardizing the features. You will utilize `pandas` for data manipulation, `train_test_split` from `sklearn` for data splitting, and `StandardScaler` for feature scaling.\n",
        "\n",
        "Loading and preprocessing the dataset involves reading the data, splitting it into training and testing sets, and standardizing the features.\n",
        "\n",
        "Please take responsibility for managing and installing all the required libraries for this lab on your own.\n",
        "\n",
        "#### Exercise 1:\n",
        "\n",
        "Write a code to load the dataset, split it into training and testing sets, standardize the features, and convert the data into PyTorch tensors for use in training a PyTorch model.\n"
      ]
    },
    {
      "cell_type": "code",
      "metadata": {
        "id": "9258d50f-fd1a-4809-bc4f-01fa6ad960cd"
      },
      "outputs": [],
      "source": [
        "## Write your code here\n",
        "# Import necessary libraries\n",
        "import pandas as pd\n",
        "from sklearn.model_selection import train_test_split\n",
        "from sklearn.preprocessing import StandardScaler\n",
        "import torch\n",
        "\n",
        "# Load the dataset\n",
        "data = pd.read_csv('/content/league_of_legends_data_large.csv')  # Update with the correct file path"
      ],
      "execution_count": 2
    },
    {
      "cell_type": "code",
      "source": [
        "data.head()"
      ],
      "metadata": {
        "colab": {
          "base_uri": "https://localhost:8080/",
          "height": 206
        },
        "id": "ZmjvSoROAi2p",
        "outputId": "c786e38b-9d93-4afd-a547-e573b41efa90"
      },
      "execution_count": 3,
      "outputs": [
        {
          "output_type": "execute_result",
          "data": {
            "text/plain": [
              "   win  kills  deaths  assists  gold_earned   cs  wards_placed  wards_killed  \\\n",
              "0    0     16       6       19        17088  231            11             7   \n",
              "1    1      8       8        5        14865  259            10             2   \n",
              "2    0      0      17       11        15919  169            14             5   \n",
              "3    0     19      11        1        11534  264            14             3   \n",
              "4    0     12       7        6        18926  124            15             7   \n",
              "\n",
              "   damage_dealt  \n",
              "0         15367  \n",
              "1         38332  \n",
              "2         24642  \n",
              "3         15789  \n",
              "4         40268  "
            ],
            "text/html": [
              "\n",
              "  <div id=\"df-23cbb64b-202b-45fc-bf25-292269e48267\" class=\"colab-df-container\">\n",
              "    <div>\n",
              "<style scoped>\n",
              "    .dataframe tbody tr th:only-of-type {\n",
              "        vertical-align: middle;\n",
              "    }\n",
              "\n",
              "    .dataframe tbody tr th {\n",
              "        vertical-align: top;\n",
              "    }\n",
              "\n",
              "    .dataframe thead th {\n",
              "        text-align: right;\n",
              "    }\n",
              "</style>\n",
              "<table border=\"1\" class=\"dataframe\">\n",
              "  <thead>\n",
              "    <tr style=\"text-align: right;\">\n",
              "      <th></th>\n",
              "      <th>win</th>\n",
              "      <th>kills</th>\n",
              "      <th>deaths</th>\n",
              "      <th>assists</th>\n",
              "      <th>gold_earned</th>\n",
              "      <th>cs</th>\n",
              "      <th>wards_placed</th>\n",
              "      <th>wards_killed</th>\n",
              "      <th>damage_dealt</th>\n",
              "    </tr>\n",
              "  </thead>\n",
              "  <tbody>\n",
              "    <tr>\n",
              "      <th>0</th>\n",
              "      <td>0</td>\n",
              "      <td>16</td>\n",
              "      <td>6</td>\n",
              "      <td>19</td>\n",
              "      <td>17088</td>\n",
              "      <td>231</td>\n",
              "      <td>11</td>\n",
              "      <td>7</td>\n",
              "      <td>15367</td>\n",
              "    </tr>\n",
              "    <tr>\n",
              "      <th>1</th>\n",
              "      <td>1</td>\n",
              "      <td>8</td>\n",
              "      <td>8</td>\n",
              "      <td>5</td>\n",
              "      <td>14865</td>\n",
              "      <td>259</td>\n",
              "      <td>10</td>\n",
              "      <td>2</td>\n",
              "      <td>38332</td>\n",
              "    </tr>\n",
              "    <tr>\n",
              "      <th>2</th>\n",
              "      <td>0</td>\n",
              "      <td>0</td>\n",
              "      <td>17</td>\n",
              "      <td>11</td>\n",
              "      <td>15919</td>\n",
              "      <td>169</td>\n",
              "      <td>14</td>\n",
              "      <td>5</td>\n",
              "      <td>24642</td>\n",
              "    </tr>\n",
              "    <tr>\n",
              "      <th>3</th>\n",
              "      <td>0</td>\n",
              "      <td>19</td>\n",
              "      <td>11</td>\n",
              "      <td>1</td>\n",
              "      <td>11534</td>\n",
              "      <td>264</td>\n",
              "      <td>14</td>\n",
              "      <td>3</td>\n",
              "      <td>15789</td>\n",
              "    </tr>\n",
              "    <tr>\n",
              "      <th>4</th>\n",
              "      <td>0</td>\n",
              "      <td>12</td>\n",
              "      <td>7</td>\n",
              "      <td>6</td>\n",
              "      <td>18926</td>\n",
              "      <td>124</td>\n",
              "      <td>15</td>\n",
              "      <td>7</td>\n",
              "      <td>40268</td>\n",
              "    </tr>\n",
              "  </tbody>\n",
              "</table>\n",
              "</div>\n",
              "    <div class=\"colab-df-buttons\">\n",
              "\n",
              "  <div class=\"colab-df-container\">\n",
              "    <button class=\"colab-df-convert\" onclick=\"convertToInteractive('df-23cbb64b-202b-45fc-bf25-292269e48267')\"\n",
              "            title=\"Convert this dataframe to an interactive table.\"\n",
              "            style=\"display:none;\">\n",
              "\n",
              "  <svg xmlns=\"http://www.w3.org/2000/svg\" height=\"24px\" viewBox=\"0 -960 960 960\">\n",
              "    <path d=\"M120-120v-720h720v720H120Zm60-500h600v-160H180v160Zm220 220h160v-160H400v160Zm0 220h160v-160H400v160ZM180-400h160v-160H180v160Zm440 0h160v-160H620v160ZM180-180h160v-160H180v160Zm440 0h160v-160H620v160Z\"/>\n",
              "  </svg>\n",
              "    </button>\n",
              "\n",
              "  <style>\n",
              "    .colab-df-container {\n",
              "      display:flex;\n",
              "      gap: 12px;\n",
              "    }\n",
              "\n",
              "    .colab-df-convert {\n",
              "      background-color: #E8F0FE;\n",
              "      border: none;\n",
              "      border-radius: 50%;\n",
              "      cursor: pointer;\n",
              "      display: none;\n",
              "      fill: #1967D2;\n",
              "      height: 32px;\n",
              "      padding: 0 0 0 0;\n",
              "      width: 32px;\n",
              "    }\n",
              "\n",
              "    .colab-df-convert:hover {\n",
              "      background-color: #E2EBFA;\n",
              "      box-shadow: 0px 1px 2px rgba(60, 64, 67, 0.3), 0px 1px 3px 1px rgba(60, 64, 67, 0.15);\n",
              "      fill: #174EA6;\n",
              "    }\n",
              "\n",
              "    .colab-df-buttons div {\n",
              "      margin-bottom: 4px;\n",
              "    }\n",
              "\n",
              "    [theme=dark] .colab-df-convert {\n",
              "      background-color: #3B4455;\n",
              "      fill: #D2E3FC;\n",
              "    }\n",
              "\n",
              "    [theme=dark] .colab-df-convert:hover {\n",
              "      background-color: #434B5C;\n",
              "      box-shadow: 0px 1px 3px 1px rgba(0, 0, 0, 0.15);\n",
              "      filter: drop-shadow(0px 1px 2px rgba(0, 0, 0, 0.3));\n",
              "      fill: #FFFFFF;\n",
              "    }\n",
              "  </style>\n",
              "\n",
              "    <script>\n",
              "      const buttonEl =\n",
              "        document.querySelector('#df-23cbb64b-202b-45fc-bf25-292269e48267 button.colab-df-convert');\n",
              "      buttonEl.style.display =\n",
              "        google.colab.kernel.accessAllowed ? 'block' : 'none';\n",
              "\n",
              "      async function convertToInteractive(key) {\n",
              "        const element = document.querySelector('#df-23cbb64b-202b-45fc-bf25-292269e48267');\n",
              "        const dataTable =\n",
              "          await google.colab.kernel.invokeFunction('convertToInteractive',\n",
              "                                                    [key], {});\n",
              "        if (!dataTable) return;\n",
              "\n",
              "        const docLinkHtml = 'Like what you see? Visit the ' +\n",
              "          '<a target=\"_blank\" href=https://colab.research.google.com/notebooks/data_table.ipynb>data table notebook</a>'\n",
              "          + ' to learn more about interactive tables.';\n",
              "        element.innerHTML = '';\n",
              "        dataTable['output_type'] = 'display_data';\n",
              "        await google.colab.output.renderOutput(dataTable, element);\n",
              "        const docLink = document.createElement('div');\n",
              "        docLink.innerHTML = docLinkHtml;\n",
              "        element.appendChild(docLink);\n",
              "      }\n",
              "    </script>\n",
              "  </div>\n",
              "\n",
              "\n",
              "<div id=\"df-2d4998eb-f84d-400a-8dfd-1f03c57ef146\">\n",
              "  <button class=\"colab-df-quickchart\" onclick=\"quickchart('df-2d4998eb-f84d-400a-8dfd-1f03c57ef146')\"\n",
              "            title=\"Suggest charts\"\n",
              "            style=\"display:none;\">\n",
              "\n",
              "<svg xmlns=\"http://www.w3.org/2000/svg\" height=\"24px\"viewBox=\"0 0 24 24\"\n",
              "     width=\"24px\">\n",
              "    <g>\n",
              "        <path d=\"M19 3H5c-1.1 0-2 .9-2 2v14c0 1.1.9 2 2 2h14c1.1 0 2-.9 2-2V5c0-1.1-.9-2-2-2zM9 17H7v-7h2v7zm4 0h-2V7h2v10zm4 0h-2v-4h2v4z\"/>\n",
              "    </g>\n",
              "</svg>\n",
              "  </button>\n",
              "\n",
              "<style>\n",
              "  .colab-df-quickchart {\n",
              "      --bg-color: #E8F0FE;\n",
              "      --fill-color: #1967D2;\n",
              "      --hover-bg-color: #E2EBFA;\n",
              "      --hover-fill-color: #174EA6;\n",
              "      --disabled-fill-color: #AAA;\n",
              "      --disabled-bg-color: #DDD;\n",
              "  }\n",
              "\n",
              "  [theme=dark] .colab-df-quickchart {\n",
              "      --bg-color: #3B4455;\n",
              "      --fill-color: #D2E3FC;\n",
              "      --hover-bg-color: #434B5C;\n",
              "      --hover-fill-color: #FFFFFF;\n",
              "      --disabled-bg-color: #3B4455;\n",
              "      --disabled-fill-color: #666;\n",
              "  }\n",
              "\n",
              "  .colab-df-quickchart {\n",
              "    background-color: var(--bg-color);\n",
              "    border: none;\n",
              "    border-radius: 50%;\n",
              "    cursor: pointer;\n",
              "    display: none;\n",
              "    fill: var(--fill-color);\n",
              "    height: 32px;\n",
              "    padding: 0;\n",
              "    width: 32px;\n",
              "  }\n",
              "\n",
              "  .colab-df-quickchart:hover {\n",
              "    background-color: var(--hover-bg-color);\n",
              "    box-shadow: 0 1px 2px rgba(60, 64, 67, 0.3), 0 1px 3px 1px rgba(60, 64, 67, 0.15);\n",
              "    fill: var(--button-hover-fill-color);\n",
              "  }\n",
              "\n",
              "  .colab-df-quickchart-complete:disabled,\n",
              "  .colab-df-quickchart-complete:disabled:hover {\n",
              "    background-color: var(--disabled-bg-color);\n",
              "    fill: var(--disabled-fill-color);\n",
              "    box-shadow: none;\n",
              "  }\n",
              "\n",
              "  .colab-df-spinner {\n",
              "    border: 2px solid var(--fill-color);\n",
              "    border-color: transparent;\n",
              "    border-bottom-color: var(--fill-color);\n",
              "    animation:\n",
              "      spin 1s steps(1) infinite;\n",
              "  }\n",
              "\n",
              "  @keyframes spin {\n",
              "    0% {\n",
              "      border-color: transparent;\n",
              "      border-bottom-color: var(--fill-color);\n",
              "      border-left-color: var(--fill-color);\n",
              "    }\n",
              "    20% {\n",
              "      border-color: transparent;\n",
              "      border-left-color: var(--fill-color);\n",
              "      border-top-color: var(--fill-color);\n",
              "    }\n",
              "    30% {\n",
              "      border-color: transparent;\n",
              "      border-left-color: var(--fill-color);\n",
              "      border-top-color: var(--fill-color);\n",
              "      border-right-color: var(--fill-color);\n",
              "    }\n",
              "    40% {\n",
              "      border-color: transparent;\n",
              "      border-right-color: var(--fill-color);\n",
              "      border-top-color: var(--fill-color);\n",
              "    }\n",
              "    60% {\n",
              "      border-color: transparent;\n",
              "      border-right-color: var(--fill-color);\n",
              "    }\n",
              "    80% {\n",
              "      border-color: transparent;\n",
              "      border-right-color: var(--fill-color);\n",
              "      border-bottom-color: var(--fill-color);\n",
              "    }\n",
              "    90% {\n",
              "      border-color: transparent;\n",
              "      border-bottom-color: var(--fill-color);\n",
              "    }\n",
              "  }\n",
              "</style>\n",
              "\n",
              "  <script>\n",
              "    async function quickchart(key) {\n",
              "      const quickchartButtonEl =\n",
              "        document.querySelector('#' + key + ' button');\n",
              "      quickchartButtonEl.disabled = true;  // To prevent multiple clicks.\n",
              "      quickchartButtonEl.classList.add('colab-df-spinner');\n",
              "      try {\n",
              "        const charts = await google.colab.kernel.invokeFunction(\n",
              "            'suggestCharts', [key], {});\n",
              "      } catch (error) {\n",
              "        console.error('Error during call to suggestCharts:', error);\n",
              "      }\n",
              "      quickchartButtonEl.classList.remove('colab-df-spinner');\n",
              "      quickchartButtonEl.classList.add('colab-df-quickchart-complete');\n",
              "    }\n",
              "    (() => {\n",
              "      let quickchartButtonEl =\n",
              "        document.querySelector('#df-2d4998eb-f84d-400a-8dfd-1f03c57ef146 button');\n",
              "      quickchartButtonEl.style.display =\n",
              "        google.colab.kernel.accessAllowed ? 'block' : 'none';\n",
              "    })();\n",
              "  </script>\n",
              "</div>\n",
              "\n",
              "    </div>\n",
              "  </div>\n"
            ],
            "application/vnd.google.colaboratory.intrinsic+json": {
              "type": "dataframe",
              "variable_name": "data",
              "summary": "{\n  \"name\": \"data\",\n  \"rows\": 1000,\n  \"fields\": [\n    {\n      \"column\": \"win\",\n      \"properties\": {\n        \"dtype\": \"number\",\n        \"std\": 0,\n        \"min\": 0,\n        \"max\": 1,\n        \"num_unique_values\": 2,\n        \"samples\": [\n          1,\n          0\n        ],\n        \"semantic_type\": \"\",\n        \"description\": \"\"\n      }\n    },\n    {\n      \"column\": \"kills\",\n      \"properties\": {\n        \"dtype\": \"number\",\n        \"std\": 5,\n        \"min\": 0,\n        \"max\": 19,\n        \"num_unique_values\": 20,\n        \"samples\": [\n          16,\n          7\n        ],\n        \"semantic_type\": \"\",\n        \"description\": \"\"\n      }\n    },\n    {\n      \"column\": \"deaths\",\n      \"properties\": {\n        \"dtype\": \"number\",\n        \"std\": 5,\n        \"min\": 0,\n        \"max\": 19,\n        \"num_unique_values\": 20,\n        \"samples\": [\n          6,\n          0\n        ],\n        \"semantic_type\": \"\",\n        \"description\": \"\"\n      }\n    },\n    {\n      \"column\": \"assists\",\n      \"properties\": {\n        \"dtype\": \"number\",\n        \"std\": 5,\n        \"min\": 0,\n        \"max\": 19,\n        \"num_unique_values\": 20,\n        \"samples\": [\n          19,\n          14\n        ],\n        \"semantic_type\": \"\",\n        \"description\": \"\"\n      }\n    },\n    {\n      \"column\": \"gold_earned\",\n      \"properties\": {\n        \"dtype\": \"number\",\n        \"std\": 4388,\n        \"min\": 5002,\n        \"max\": 19955,\n        \"num_unique_values\": 963,\n        \"samples\": [\n          12024,\n          17905\n        ],\n        \"semantic_type\": \"\",\n        \"description\": \"\"\n      }\n    },\n    {\n      \"column\": \"cs\",\n      \"properties\": {\n        \"dtype\": \"number\",\n        \"std\": 72,\n        \"min\": 50,\n        \"max\": 299,\n        \"num_unique_values\": 244,\n        \"samples\": [\n          263,\n          221\n        ],\n        \"semantic_type\": \"\",\n        \"description\": \"\"\n      }\n    },\n    {\n      \"column\": \"wards_placed\",\n      \"properties\": {\n        \"dtype\": \"number\",\n        \"std\": 5,\n        \"min\": 0,\n        \"max\": 19,\n        \"num_unique_values\": 20,\n        \"samples\": [\n          11,\n          17\n        ],\n        \"semantic_type\": \"\",\n        \"description\": \"\"\n      }\n    },\n    {\n      \"column\": \"wards_killed\",\n      \"properties\": {\n        \"dtype\": \"number\",\n        \"std\": 2,\n        \"min\": 0,\n        \"max\": 9,\n        \"num_unique_values\": 10,\n        \"samples\": [\n          1,\n          2\n        ],\n        \"semantic_type\": \"\",\n        \"description\": \"\"\n      }\n    },\n    {\n      \"column\": \"damage_dealt\",\n      \"properties\": {\n        \"dtype\": \"number\",\n        \"std\": 13221,\n        \"min\": 5028,\n        \"max\": 49927,\n        \"num_unique_values\": 993,\n        \"samples\": [\n          40281,\n          43411\n        ],\n        \"semantic_type\": \"\",\n        \"description\": \"\"\n      }\n    }\n  ]\n}"
            }
          },
          "metadata": {},
          "execution_count": 3
        }
      ]
    },
    {
      "cell_type": "code",
      "source": [
        "# Split data into features (X) and target (y)\n",
        "X = data.drop(columns=['win'])\n",
        "y = data['win']\n",
        "\n",
        "# Split the data into training and testing sets\n",
        "X_train, X_test, y_train, y_test = train_test_split(X, y, test_size=0.2, random_state=42)\n",
        "\n",
        "# Standardize the features\n",
        "scaler = StandardScaler()\n",
        "X_train = scaler.fit_transform(X_train)\n",
        "X_test = scaler.transform(X_test)\n",
        "\n",
        "# Convert the data into PyTorch tensors\n",
        "X_train_tensor = torch.tensor(X_train, dtype=torch.float32)\n",
        "X_test_tensor = torch.tensor(X_test, dtype=torch.float32)\n",
        "y_train_tensor = torch.tensor(y_train.values, dtype=torch.float32)\n",
        "y_test_tensor = torch.tensor(y_test.values, dtype=torch.float32)"
      ],
      "metadata": {
        "id": "CnvULjBmBSkX"
      },
      "execution_count": 7,
      "outputs": []
    },
    {
      "cell_type": "markdown",
      "metadata": {
        "id": "89358ba2-8c4f-49ca-8292-16608ed8eb44"
      },
      "source": [
        "### Step 2: Logistic Regression Model\n",
        "\n",
        "#### Task 2: Implement a logistic regression model using PyTorch.\n",
        "\n",
        "Defining the logistic regression model involves specifying the input dimensions, the forward pass using the sigmoid activation function, and initializing the model, loss function, and optimizer.\n",
        "\n",
        "#### Exercise 2:\n",
        "\n",
        "Define the logistic regression model using PyTorch, specifying the input dimensions and the forward pass. Initialize the model, loss function, and optimizer.\n"
      ]
    },
    {
      "cell_type": "code",
      "metadata": {
        "colab": {
          "base_uri": "https://localhost:8080/"
        },
        "id": "1da70403-14a5-4662-a490-7b678d59878c",
        "outputId": "6d9a8623-c824-4001-dbc5-330b91f50145"
      },
      "outputs": [
        {
          "output_type": "stream",
          "name": "stdout",
          "text": [
            "LogisticRegressionModel(\n",
            "  (linear): Linear(in_features=8, out_features=1, bias=True)\n",
            ")\n"
          ]
        }
      ],
      "source": [
        "## Write your code here\n",
        "import torch\n",
        "import torch.nn as nn\n",
        "import torch.optim as optim\n",
        "\n",
        "# Define the logistic regression model\n",
        "class LogisticRegressionModel(nn.Module):\n",
        "    def __init__(self, input_dim):\n",
        "        super(LogisticRegressionModel, self).__init__()\n",
        "        # A single linear layer\n",
        "        self.linear = nn.Linear(input_dim, 1)\n",
        "\n",
        "    def forward(self, x):\n",
        "        # Apply the linear layer followed by sigmoid activation\n",
        "        return torch.sigmoid(self.linear(x))\n",
        "\n",
        "# Initialize model parameters\n",
        "input_dim = X_train_tensor.shape[1]  # Number of features\n",
        "model = LogisticRegressionModel(input_dim)\n",
        "\n",
        "# Define the loss function (Binary Cross-Entropy)\n",
        "criterion = nn.BCELoss()\n",
        "\n",
        "# Define the optimizer (e.g., SGD or Adam)\n",
        "optimizer = optim.SGD(model.parameters(), lr=0.01)  # or you could use optim.Adam\n",
        "\n",
        "# Model summary\n",
        "print(model)\n"
      ],
      "execution_count": 8
    },
    {
      "cell_type": "markdown",
      "metadata": {
        "id": "0ceaff7a-c551-4ffe-84d1-ebfe78f42058"
      },
      "source": [
        "### Step 3: Model Training\n",
        "\n",
        "#### Task 3: Train the logistic regression model on the dataset.\n",
        "\n",
        "The training loop will run for a specified number of epochs. In each epoch, the model makes predictions, calculates the loss, performs backpropagation, and updates the model parameters .\n",
        "\n",
        "#### Exercise 3:\n",
        "\n",
        "Write the code to train the logistic regression model on the dataset. Implement the training loop, making predictions, calculating the loss, performing backpropagation, and updating model parameters. Evaluate the model's accuracy on training and testing sets.\n"
      ]
    },
    {
      "cell_type": "code",
      "metadata": {
        "colab": {
          "base_uri": "https://localhost:8080/"
        },
        "id": "be9b0ef6-9322-4506-8d00-fa8a42061a0c",
        "outputId": "18ecd21e-bf42-4698-c598-f089ebc9ac0e"
      },
      "outputs": [
        {
          "output_type": "stream",
          "name": "stdout",
          "text": [
            "Epoch [10/100], Loss: 0.7174\n",
            "Epoch [20/100], Loss: 0.7160\n",
            "Epoch [30/100], Loss: 0.7146\n",
            "Epoch [40/100], Loss: 0.7134\n",
            "Epoch [50/100], Loss: 0.7122\n",
            "Epoch [60/100], Loss: 0.7110\n",
            "Epoch [70/100], Loss: 0.7099\n",
            "Epoch [80/100], Loss: 0.7088\n",
            "Epoch [90/100], Loss: 0.7077\n",
            "Epoch [100/100], Loss: 0.7068\n",
            "Accuracy on training set: 53.75%\n",
            "Accuracy on testing set: 48.50%\n"
          ]
        }
      ],
      "source": [
        "# Write your code here\n",
        "# Define the number of epochs\n",
        "num_epochs = 100\n",
        "\n",
        "# Training loop\n",
        "for epoch in range(num_epochs):\n",
        "    # Set model to training mode\n",
        "    model.train()\n",
        "\n",
        "    # Forward pass: compute predictions and loss\n",
        "    outputs = model(X_train_tensor).squeeze()  # squeeze to match target shape\n",
        "    loss = criterion(outputs, y_train_tensor)\n",
        "\n",
        "    # Backward pass: compute gradient and update parameters\n",
        "    optimizer.zero_grad()  # Clear previous gradients\n",
        "    loss.backward()        # Compute gradients\n",
        "    optimizer.step()       # Update parameters\n",
        "\n",
        "    # Print loss every 10 epochs\n",
        "    if (epoch+1) % 10 == 0:\n",
        "        print(f'Epoch [{epoch+1}/{num_epochs}], Loss: {loss.item():.4f}')\n",
        "\n",
        "# Evaluation function to calculate accuracy\n",
        "def calculate_accuracy(y_true, y_pred):\n",
        "    # Convert probabilities to binary outputs (0 or 1)\n",
        "    predicted = y_pred.round()\n",
        "    correct = (predicted == y_true).sum().item()\n",
        "    return correct / len(y_true)\n",
        "\n",
        "# Set model to evaluation mode\n",
        "model.eval()\n",
        "with torch.no_grad():  # Disable gradient calculation for evaluation\n",
        "    # Evaluate on training set\n",
        "    train_outputs = model(X_train_tensor).squeeze()\n",
        "    train_accuracy = calculate_accuracy(y_train_tensor, train_outputs)\n",
        "\n",
        "    # Evaluate on testing set\n",
        "    test_outputs = model(X_test_tensor).squeeze()\n",
        "    test_accuracy = calculate_accuracy(y_test_tensor, test_outputs)\n",
        "\n",
        "print(f'Accuracy on training set: {train_accuracy * 100:.2f}%')\n",
        "print(f'Accuracy on testing set: {test_accuracy * 100:.2f}%')\n"
      ],
      "execution_count": 9
    },
    {
      "cell_type": "markdown",
      "metadata": {
        "id": "9bc00024-5c97-4443-bef8-216a6a133c2b"
      },
      "source": [
        "### Step 4: Model Optimization and Evaluation\n",
        "\n",
        "#### Task 4: Implement optimization techniques and evaluate the model's performance.\n",
        "\n",
        "Optimization techniques such as L2 regularization (Ridge Regression) help in preventing overfitting. The model is retrained with these optimizations, and its performance is evaluated on both training and testing sets.\n",
        "\n",
        "#### Exercise 4:\n",
        "\n",
        "Implement optimization techniques like L2 regularization and retrain the model. Evaluate the performance of the optimized model on both training and testing sets.\n"
      ]
    },
    {
      "cell_type": "code",
      "metadata": {
        "colab": {
          "base_uri": "https://localhost:8080/"
        },
        "id": "f2f7ef15-0544-44c8-8907-841c7a616e8e",
        "outputId": "73b9ed5e-21f5-41ea-e86b-ba2d66ead918"
      },
      "outputs": [
        {
          "output_type": "stream",
          "name": "stdout",
          "text": [
            "Epoch [10/100], Loss with L2 Regularization: 0.7058\n",
            "Epoch [20/100], Loss with L2 Regularization: 0.7048\n",
            "Epoch [30/100], Loss with L2 Regularization: 0.7039\n",
            "Epoch [40/100], Loss with L2 Regularization: 0.7030\n",
            "Epoch [50/100], Loss with L2 Regularization: 0.7022\n",
            "Epoch [60/100], Loss with L2 Regularization: 0.7014\n",
            "Epoch [70/100], Loss with L2 Regularization: 0.7007\n",
            "Epoch [80/100], Loss with L2 Regularization: 0.6999\n",
            "Epoch [90/100], Loss with L2 Regularization: 0.6993\n",
            "Epoch [100/100], Loss with L2 Regularization: 0.6986\n",
            "Accuracy on training set after L2 regularization: 54.62%\n",
            "Accuracy on testing set after L2 regularization: 48.50%\n"
          ]
        }
      ],
      "source": [
        "## Write your code here\n",
        "# Redefine the optimizer with L2 regularization\n",
        "# Higher weight_decay values increase the regularization effect\n",
        "l2_weight_decay = 0.01  # You can adjust this value based on tuning\n",
        "optimizer = optim.SGD(model.parameters(), lr=0.01, weight_decay=l2_weight_decay)\n",
        "\n",
        "# Number of epochs for retraining\n",
        "num_epochs = 100\n",
        "\n",
        "# Retrain the model with L2 regularization\n",
        "for epoch in range(num_epochs):\n",
        "    model.train()  # Set model to training mode\n",
        "    outputs = model(X_train_tensor).squeeze()  # Forward pass\n",
        "    loss = criterion(outputs, y_train_tensor)  # Compute the loss\n",
        "\n",
        "    optimizer.zero_grad()  # Clear previous gradients\n",
        "    loss.backward()        # Backpropagation\n",
        "    optimizer.step()       # Update parameters\n",
        "\n",
        "    # Print loss every 10 epochs\n",
        "    if (epoch+1) % 10 == 0:\n",
        "        print(f'Epoch [{epoch+1}/{num_epochs}], Loss with L2 Regularization: {loss.item():.4f}')\n",
        "\n",
        "# Evaluate the model on training and testing sets after retraining\n",
        "model.eval()  # Set model to evaluation mode\n",
        "with torch.no_grad():\n",
        "    # Calculate accuracy on the training set\n",
        "    train_outputs = model(X_train_tensor).squeeze()\n",
        "    train_accuracy = calculate_accuracy(y_train_tensor, train_outputs)\n",
        "\n",
        "    # Calculate accuracy on the testing set\n",
        "    test_outputs = model(X_test_tensor).squeeze()\n",
        "    test_accuracy = calculate_accuracy(y_test_tensor, test_outputs)\n",
        "\n",
        "print(f'Accuracy on training set after L2 regularization: {train_accuracy * 100:.2f}%')\n",
        "print(f'Accuracy on testing set after L2 regularization: {test_accuracy * 100:.2f}%')\n"
      ],
      "execution_count": 10
    },
    {
      "cell_type": "markdown",
      "metadata": {
        "id": "f79db15b-3d10-421d-a03a-7b9de51b043e"
      },
      "source": [
        "### Step 5: Visualization and Interpretation\n",
        "\n",
        "#### Task 5: Visualize the model's performance and interpret the results.\n",
        "\n",
        "Visualization tools like confusion matrices and ROC curves provide insights into the model's performance. The confusion matrix helps in understanding the classification accuracy, while the ROC curve illustrates the trade-off between sensitivity and specificity.\n",
        "\n",
        "#### Exercise 5:\n",
        "\n",
        "Write code to visualize the model's performance using confusion matrices and ROC curves. Generate classification reports to evaluate precision, recall, and F1-score. Retrain the model with L2 regularization and evaluate the performance.\n"
      ]
    },
    {
      "cell_type": "code",
      "metadata": {
        "colab": {
          "base_uri": "https://localhost:8080/",
          "height": 1000
        },
        "id": "a11e4238-4636-48ca-98bc-d35f18fd485e",
        "outputId": "c28db102-8142-43ee-8e82-ca1a8973eae3"
      },
      "outputs": [
        {
          "output_type": "display_data",
          "data": {
            "text/plain": [
              "<Figure size 600x500 with 2 Axes>"
            ],
            "image/png": "[encoded data removed]"
          },
          "metadata": {}
        },
        {
          "output_type": "display_data",
          "data": {
            "text/plain": [
              "<Figure size 800x600 with 1 Axes>"
            ],
            "image/png": "[encoded data removed]"
          },
          "metadata": {}
        },
        {
          "output_type": "stream",
          "name": "stdout",
          "text": [
            "Classification Report:\n",
            "\n",
            "              precision    recall  f1-score   support\n",
            "\n",
            "     Class 0       0.46      0.45      0.46        95\n",
            "     Class 1       0.51      0.51      0.51       105\n",
            "\n",
            "    accuracy                           0.48       200\n",
            "   macro avg       0.48      0.48      0.48       200\n",
            "weighted avg       0.48      0.48      0.48       200\n",
            "\n"
          ]
        }
      ],
      "source": [
        "## Write your code here\n",
        "from sklearn.metrics import confusion_matrix, roc_curve, roc_auc_score, classification_report\n",
        "import matplotlib.pyplot as plt\n",
        "import seaborn as sns\n",
        "import numpy as np\n",
        "\n",
        "# Generate predictions on the test set\n",
        "model.eval()\n",
        "with torch.no_grad():\n",
        "    test_outputs = model(X_test_tensor).squeeze()\n",
        "    test_predictions = test_outputs.round()  # Convert probabilities to binary predictions\n",
        "\n",
        "# Confusion Matrix\n",
        "cm = confusion_matrix(y_test_tensor, test_predictions)\n",
        "plt.figure(figsize=(6, 5))\n",
        "sns.heatmap(cm, annot=True, fmt=\"d\", cmap=\"Blues\", xticklabels=[\"Predicted 0\", \"Predicted 1\"], yticklabels=[\"Actual 0\", \"Actual 1\"])\n",
        "plt.xlabel(\"Predicted Label\")\n",
        "plt.ylabel(\"True Label\")\n",
        "plt.title(\"Confusion Matrix\")\n",
        "plt.show()\n",
        "\n",
        "# ROC Curve and AUC Score\n",
        "fpr, tpr, _ = roc_curve(y_test_tensor, test_outputs)\n",
        "auc_score = roc_auc_score(y_test_tensor, test_outputs)\n",
        "\n",
        "plt.figure(figsize=(8, 6))\n",
        "plt.plot(fpr, tpr, label=f\"AUC = {auc_score:.2f}\")\n",
        "plt.plot([0, 1], [0, 1], \"k--\")  # Diagonal line for random guessing\n",
        "plt.xlabel(\"False Positive Rate\")\n",
        "plt.ylabel(\"True Positive Rate\")\n",
        "plt.title(\"ROC Curve\")\n",
        "plt.legend(loc=\"lower right\")\n",
        "plt.show()\n",
        "\n",
        "# Classification Report\n",
        "print(\"Classification Report:\\n\")\n",
        "print(classification_report(y_test_tensor, test_predictions, target_names=[\"Class 0\", \"Class 1\"]))\n"
      ],
      "execution_count": 11
    },
    {
      "cell_type": "markdown",
      "metadata": {
        "id": "1c0a0ca3-3b12-4b76-891b-cd918c5d2cb8"
      },
      "source": [
        "### Step 6: Model Saving and Loading\n",
        "\n",
        "#### Task 6: Save and load the trained model.\n",
        "\n",
        "This task demonstrates the techniques to persist a trained model using `torch.save` and reload it using `torch.load`. Evaluating the loaded model ensures that it retains its performance, making it practical for deployment in real-world applications.\n",
        "\n",
        "#### Exercise 6:\n",
        "\n",
        "Write code to save the trained model and reload it. Ensure the loaded model performs consistently by evaluating it on the test dataset.\n"
      ]
    },
    {
      "cell_type": "code",
      "metadata": {
        "colab": {
          "base_uri": "https://localhost:8080/"
        },
        "id": "04cd0e68-9c5f-442c-9fca-db086adeb968",
        "outputId": "75a1c36e-c131-4d80-c80a-729f95fbf504"
      },
      "outputs": [
        {
          "output_type": "stream",
          "name": "stdout",
          "text": [
            "Model saved to logistic_regression_model.pth\n",
            "Model loaded successfully and set to evaluation mode.\n",
            "Accuracy on testing set after loading the model: 48.50%\n"
          ]
        },
        {
          "output_type": "stream",
          "name": "stderr",
          "text": [
            "<ipython-input-12-63e3073bcbbd>:13: FutureWarning: You are using `torch.load` with `weights_only=False` (the current default value), which uses the default pickle module implicitly. It is possible to construct malicious pickle data which will execute arbitrary code during unpickling (See https://github.com/pytorch/pytorch/blob/main/SECURITY.md#untrusted-models for more details). In a future release, the default value for `weights_only` will be flipped to `True`. This limits the functions that could be executed during unpickling. Arbitrary objects will no longer be allowed to be loaded via this mode unless they are explicitly allowlisted by the user via `torch.serialization.add_safe_globals`. We recommend you start setting `weights_only=True` for any use case where you don't have full control of the loaded file. Please open an issue on GitHub for any issues related to this experimental feature.\n",
            "  loaded_model.load_state_dict(torch.load(model_path))\n"
          ]
        }
      ],
      "source": [
        "## Write your code here\n",
        "import torch\n",
        "\n",
        "# Define the path where the model will be saved\n",
        "model_path = \"logistic_regression_model.pth\"\n",
        "\n",
        "# Save the model state dictionary\n",
        "torch.save(model.state_dict(), model_path)\n",
        "print(f\"Model saved to {model_path}\")\n",
        "\n",
        "# Load the model state dictionary\n",
        "loaded_model = LogisticRegressionModel(input_dim)  # Reinitialize the model structure\n",
        "loaded_model.load_state_dict(torch.load(model_path))\n",
        "loaded_model.eval()  # Set the loaded model to evaluation mode\n",
        "print(\"Model loaded successfully and set to evaluation mode.\")\n",
        "\n",
        "# Evaluate the loaded model on the test set\n",
        "with torch.no_grad():\n",
        "    test_outputs_loaded = loaded_model(X_test_tensor).squeeze()\n",
        "    test_predictions_loaded = test_outputs_loaded.round()  # Convert probabilities to binary predictions\n",
        "\n",
        "# Verify if the loaded model's performance is consistent by calculating accuracy\n",
        "loaded_test_accuracy = calculate_accuracy(y_test_tensor, test_outputs_loaded)\n",
        "print(f\"Accuracy on testing set after loading the model: {loaded_test_accuracy * 100:.2f}%\")\n"
      ],
      "execution_count": 12
    },
    {
      "cell_type": "markdown",
      "metadata": {
        "id": "9ca49bc6-c28b-4cb8-adc7-2ebe9f6ee46f"
      },
      "source": [
        "### Step 7: Hyperparameter Tuning\n",
        "\n",
        "#### Task 7: Perform hyperparameter tuning to find the best learning rate.\n",
        "\n",
        "By testing different learning rates, you will identify the optimal rate that provides the best test accuracy. This fine-tuning is crucial for enhancing model performance .\n",
        "\n",
        "#### Exercise 7:\n",
        "\n",
        "Perform hyperparameter tuning to find the best learning rate. Retrain the model for each learning rate and evaluate its performance to identify the optimal rate.\n"
      ]
    },
    {
      "cell_type": "code",
      "metadata": {
        "colab": {
          "base_uri": "https://localhost:8080/"
        },
        "id": "3bd1d4d5-06b3-45ee-8a00-b3813a77ffc8",
        "outputId": "41b63048-d8e5-43b6-e550-86f61b7844ef"
      },
      "outputs": [
        {
          "output_type": "stream",
          "name": "stdout",
          "text": [
            "Learning Rate: 0.001, Test Accuracy: 50.50%\n",
            "Learning Rate: 0.01, Test Accuracy: 50.00%\n",
            "Learning Rate: 0.05, Test Accuracy: 54.50%\n",
            "Learning Rate: 0.1, Test Accuracy: 50.50%\n",
            "Learning Rate: 0.2, Test Accuracy: 51.00%\n",
            "\n",
            "Best Learning Rate: 0.05, with Test Accuracy: 54.50%\n"
          ]
        }
      ],
      "source": [
        "## Write your code here\n",
        "# Define a list of learning rates to test\n",
        "learning_rates = [0.001, 0.01, 0.05, 0.1, 0.2]\n",
        "num_epochs = 100\n",
        "best_accuracy = 0\n",
        "best_lr = None\n",
        "\n",
        "# Dictionary to store test accuracy for each learning rate\n",
        "results = {}\n",
        "\n",
        "for lr in learning_rates:\n",
        "    # Reinitialize the model for each learning rate\n",
        "    model = LogisticRegressionModel(input_dim)\n",
        "    optimizer = optim.SGD(model.parameters(), lr=lr, weight_decay=l2_weight_decay)\n",
        "\n",
        "    # Train the model\n",
        "    for epoch in range(num_epochs):\n",
        "        model.train()\n",
        "        outputs = model(X_train_tensor).squeeze()\n",
        "        loss = criterion(outputs, y_train_tensor)\n",
        "\n",
        "        optimizer.zero_grad()\n",
        "        loss.backward()\n",
        "        optimizer.step()\n",
        "\n",
        "    # Evaluate on the test set\n",
        "    model.eval()\n",
        "    with torch.no_grad():\n",
        "        test_outputs = model(X_test_tensor).squeeze()\n",
        "        test_accuracy = calculate_accuracy(y_test_tensor, test_outputs)\n",
        "\n",
        "    # Store the test accuracy for this learning rate\n",
        "    results[lr] = test_accuracy\n",
        "    print(f\"Learning Rate: {lr}, Test Accuracy: {test_accuracy * 100:.2f}%\")\n",
        "\n",
        "    # Update best learning rate if current test accuracy is higher\n",
        "    if test_accuracy > best_accuracy:\n",
        "        best_accuracy = test_accuracy\n",
        "        best_lr = lr\n",
        "\n",
        "print(f\"\\nBest Learning Rate: {best_lr}, with Test Accuracy: {best_accuracy * 100:.2f}%\")"
      ],
      "execution_count": 13
    },
    {
      "cell_type": "markdown",
      "metadata": {
        "id": "f252e084-8b48-4ded-80b9-e672efe412c2"
      },
      "source": [
        "### Step 8: Feature Importance\n",
        "\n",
        "#### Task 8: Evaluate feature importance to understand the impact of each feature on the prediction.\n",
        "\n",
        "The code to evaluate feature importance to understand the impact of each feature on the prediction.\n",
        "\n",
        "#### Exercise 8:\n",
        "\n",
        "Evaluate feature importance by extracting the weights of the linear layer and creating a DataFrame to display the importance of each feature. Visualize the feature importance using a bar plot.\n"
      ]
    },
    {
      "cell_type": "code",
      "metadata": {
        "colab": {
          "base_uri": "https://localhost:8080/",
          "height": 511
        },
        "id": "3bc0995c-6f00-4e38-974f-3d54058b1055",
        "outputId": "fea39783-cd30-4191-909a-cc5437431071"
      },
      "outputs": [
        {
          "output_type": "display_data",
          "data": {
            "text/plain": [
              "<Figure size 1000x600 with 1 Axes>"
            ],
            "image/png": "[encoded data removed]"
          },
          "metadata": {}
        }
      ],
      "source": [
        "## Write your code here\n",
        "import pandas as pd\n",
        "import matplotlib.pyplot as plt\n",
        "\n",
        "# Extract feature names from the DataFrame\n",
        "feature_names = X.columns  # Assuming X is the feature DataFrame used for training\n",
        "\n",
        "# Extract weights (coefficients) from the linear layer\n",
        "weights = model.linear.weight.data.numpy().flatten()  # Convert to numpy array and flatten to 1D\n",
        "\n",
        "# Create a DataFrame for feature importance\n",
        "feature_importance_df = pd.DataFrame({\n",
        "    'Feature': feature_names,\n",
        "    'Importance': weights\n",
        "})\n",
        "\n",
        "# Sort features by absolute importance for better visualization\n",
        "feature_importance_df['Absolute Importance'] = feature_importance_df['Importance'].abs()\n",
        "feature_importance_df = feature_importance_df.sort_values(by='Absolute Importance', ascending=False)\n",
        "\n",
        "# Plot the feature importance\n",
        "plt.figure(figsize=(10, 6))\n",
        "plt.barh(feature_importance_df['Feature'], feature_importance_df['Importance'], align='center')\n",
        "plt.xlabel(\"Feature Importance (Weight)\")\n",
        "plt.ylabel(\"Feature\")\n",
        "plt.title(\"Feature Importance in Logistic Regression Model\")\n",
        "plt.gca().invert_yaxis()  # Invert y-axis for descending order\n",
        "plt.show()\n"
      ],
      "execution_count": 14
    },
    {
      "cell_type": "markdown",
      "metadata": {
        "id": "7c798a01-68a7-4ac2-90c8-75c7620bf2cb"
      },
      "source": [
        "#### Conclusion:\n",
        "\n",
        "Congratulations on completing the project! In this final project, you built a logistic regression model to predict the outcomes of League of Legends matches based on various in-game statistics. This comprehensive project involved several key steps, including data loading and preprocessing, model implementation, training, optimization, evaluation, visualization, model saving and loading, hyperparameter tuning, and feature importance analysis. This project provided hands-on experience with the complete workflow of developing a machine learning model for binary classification tasks using PyTorch.\n",
        "\n",
        "© Copyright IBM Corporation. All rights reserved.\n"
      ]
    },
    {
      "cell_type": "code",
      "metadata": {
        "id": "2ed0880a-d037-4f92-afca-b3f25e53424c"
      },
      "outputs": [],
      "source": [],
      "execution_count": null
    }
  ],
  "metadata": {
    "kernelspec": {
      "display_name": "Python 3 (ipykernel)",
      "language": "python",
      "name": "python3"
    },
    "language_info": {
      "codemirror_mode": {
        "name": "ipython",
        "version": 3
      },
      "file_extension": ".py",
      "mimetype": "text/x-python",
      "name": "python",
      "nbconvert_exporter": "python",
      "pygments_lexer": "ipython3",
      "version": "3.11.9"
    },
    "prev_pub_hash": "01dcfd9092213617d1f8aeba91d73aabc8cdce47cb7efe1510845fc98189c2a4",
    "colab": {
      "provenance": []
    }
  },
  "nbformat": 4,
  "nbformat_minor": 0
}